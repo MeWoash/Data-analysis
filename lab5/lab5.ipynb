{
 "cells": [
  {
   "cell_type": "code",
   "execution_count": 525,
   "metadata": {},
   "outputs": [],
   "source": [
    "import numpy as np\n",
    "import pandas as pd\n",
    "import sklearn as sk\n",
    "from scipy import sparse\n",
    "from itertools import product"
   ]
  },
  {
   "cell_type": "markdown",
   "metadata": {},
   "source": [
    "# Read CSV"
   ]
  },
  {
   "cell_type": "code",
   "execution_count": 526,
   "metadata": {},
   "outputs": [],
   "source": [
    "df=pd.read_csv('zoo.csv')"
   ]
  },
  {
   "cell_type": "markdown",
   "metadata": {},
   "source": [
    "# Zad 1"
   ]
  },
  {
   "cell_type": "code",
   "execution_count": 527,
   "metadata": {},
   "outputs": [
    {
     "data": {
      "text/plain": [
       "False    0.80198\n",
       "True     0.19802\n",
       "Name: feathers, dtype: float64"
      ]
     },
     "execution_count": 527,
     "metadata": {},
     "output_type": "execute_result"
    }
   ],
   "source": [
    "\n",
    "def freq(x, prob=True):\n",
    "    \n",
    "    if sparse.issparse(x):\n",
    "        #input is scipy.sparse\n",
    "        pass\n",
    "         \n",
    "    else:\n",
    "        #input is Series\n",
    "        tmp=x.value_counts(normalize=prob)\n",
    "    \n",
    "    \n",
    "    return tmp\n",
    "\n",
    "\n",
    "freq(df['feathers'])"
   ]
  },
  {
   "cell_type": "markdown",
   "metadata": {},
   "source": [
    "# Zad 2"
   ]
  },
  {
   "cell_type": "code",
   "execution_count": 664,
   "metadata": {},
   "outputs": [
    {
     "name": "stderr",
     "output_type": "stream",
     "text": [
      "C:\\Users\\zubi1\\AppData\\Local\\Temp\\ipykernel_17356\\3710791860.py:11: SparseEfficiencyWarning: Comparing a sparse matrix with 0 using == is inefficient, try using != instead.\n",
      "  mask=np.logical_and((x==0).toarray(),(y==0).toarray())\n"
     ]
    }
   ],
   "source": [
    "def freq2(x, y, prob=True):\n",
    "    if sparse.issparse(x) and sparse.issparse(y):  \n",
    "        #input is scipy.sparse\n",
    "        index = pd.MultiIndex.from_product([np.unique(np.append(x.data,0)),np.unique(np.append(y.data,0))],names=['col1','col2'])\n",
    "        tmp=pd.Series(index=index,dtype=np.float64)\n",
    "\n",
    "\n",
    "        \n",
    "\n",
    "        for val in index:\n",
    "            mask=np.logical_and((x==1).toarray(),(y==1).toarray())\n",
    "            tmp[val]=sum(mask)\n",
    "\n",
    "        if prob:\n",
    "            tmp=tmp/sum(tmp)\n",
    "            \n",
    "        return tmp\n",
    "        \n",
    "    else:\n",
    "        #input is Series\n",
    "        \n",
    "        df=pd.DataFrame({x.name:x,y.name:y})\n",
    "        \n",
    "        index = pd.MultiIndex.from_product([np.unique(x),np.unique(y)],names=[x.name,y.name])\n",
    "        tmp=pd.Series(index=index,dtype=np.float64)\n",
    "        \n",
    "        for val in index:\n",
    "            tmp[val]=sum(df.eq(val).all(axis=1))\n",
    "\n",
    "        if prob:\n",
    "            tmp=tmp/sum(tmp)\n",
    "    \n",
    "    \n",
    "        \n",
    "    return tmp\n",
    "\n",
    "freq2(sparse.coo_array(df['feathers']),sparse.coo_array(df['legs']))\n"
   ]
  },
  {
   "cell_type": "markdown",
   "metadata": {},
   "source": [
    "# Zad 3"
   ]
  },
  {
   "cell_type": "code",
   "execution_count": 529,
   "metadata": {},
   "outputs": [
    {
     "name": "stdout",
     "output_type": "stream",
     "text": [
      "Numpy entropy:\t 0.7179499765002912\n",
      "My entropy:\t 0.7179499765002912\n",
      "Infogain:\t 0.09668209882120649\n"
     ]
    }
   ],
   "source": [
    "def entropy(p):\n",
    "    return np.sum(p*np.log2(1/p))\n",
    "\n",
    "\n",
    "def infogain(x,y):\n",
    "    xp=freq(x)\n",
    "    yp=freq(y)\n",
    "    xyp=freq2(x,y)\n",
    "    \n",
    "    return entropy(xp) + entropy(yp) - entropy(xyp)\n",
    "\n",
    "    \n",
    "import scipy.stats._entropy\n",
    "\n",
    "#TEST\n",
    "print('Numpy entropy:\\t',scipy.stats._entropy.entropy(freq(df['feathers']),base=2))\n",
    "print('My entropy:\\t',entropy( freq(df['feathers'])) )\n",
    "\n",
    "print('Infogain:\\t',infogain(df['feathers'],df['tail']))"
   ]
  },
  {
   "cell_type": "markdown",
   "metadata": {},
   "source": [
    "# Zad 4"
   ]
  },
  {
   "cell_type": "code",
   "execution_count": 530,
   "metadata": {},
   "outputs": [
    {
     "data": {
      "text/plain": [
       "legs      type    1.363047\n",
       "milk      type    0.974320\n",
       "toothed   type    0.865694\n",
       "eggs      type    0.830138\n",
       "hair      type    0.790675\n",
       "feathers  type    0.717950\n",
       "backbone  type    0.676163\n",
       "breathes  type    0.614494\n",
       "tail      type    0.500460\n",
       "airborne  type    0.469703\n",
       "fins      type    0.466614\n",
       "aquatic   type    0.389487\n",
       "catsize   type    0.308490\n",
       "venomous  type    0.133090\n",
       "predator  type    0.093447\n",
       "domestic  type    0.050669\n",
       "Name: info gains, dtype: float64"
      ]
     },
     "execution_count": 530,
     "metadata": {},
     "output_type": "execute_result"
    }
   ],
   "source": [
    "indexes=pd.MultiIndex.from_product([df.columns[1:-1],['type']])\n",
    "\n",
    "infos=pd.Series(index=indexes,dtype=np.float64,name='info gains')\n",
    "\n",
    "for cols in indexes:\n",
    "    infos.loc[cols]=infogain(df[cols[0]],df[cols[1]])\n",
    "\n",
    "infos.sort_values(ascending=False,inplace=True)\n",
    "infos\n",
    "\n",
    "    "
   ]
  },
  {
   "cell_type": "markdown",
   "metadata": {},
   "source": [
    "# Zad 5"
   ]
  },
  {
   "cell_type": "code",
   "execution_count": 531,
   "metadata": {},
   "outputs": [],
   "source": [
    "from sklearn.datasets import fetch_rcv1\n",
    "rcv1=fetch_rcv1(subset='train')"
   ]
  },
  {
   "cell_type": "markdown",
   "metadata": {},
   "source": [
    "### maska wierszy"
   ]
  },
  {
   "cell_type": "code",
   "execution_count": 532,
   "metadata": {},
   "outputs": [],
   "source": [
    "atrybut='GSPO'\n",
    "tindex=(rcv1.target_names==atrybut).nonzero()[0]\n",
    "rows=rcv1.target[:,tindex].nonzero()[0]"
   ]
  },
  {
   "cell_type": "markdown",
   "metadata": {},
   "source": [
    "### binaryzacja"
   ]
  },
  {
   "cell_type": "code",
   "execution_count": 533,
   "metadata": {},
   "outputs": [
    {
     "name": "stdout",
     "output_type": "stream",
     "text": [
      "  (0, 863)\t1.0\n",
      "  (0, 1522)\t1.0\n",
      "  (0, 1680)\t1.0\n",
      "  (0, 2292)\t1.0\n",
      "  (0, 2844)\t1.0\n",
      "  (0, 2866)\t1.0\n",
      "  (0, 3239)\t1.0\n",
      "  (0, 4124)\t1.0\n",
      "  (0, 4270)\t1.0\n",
      "  (0, 4664)\t1.0\n",
      "  (0, 5215)\t1.0\n",
      "  (0, 5572)\t1.0\n",
      "  (0, 5698)\t1.0\n",
      "  (0, 5793)\t1.0\n",
      "  (0, 6221)\t1.0\n",
      "  (0, 6591)\t1.0\n",
      "  (0, 7226)\t1.0\n",
      "  (0, 7974)\t1.0\n",
      "  (0, 8144)\t1.0\n",
      "  (0, 8758)\t1.0\n",
      "  (0, 8770)\t1.0\n",
      "  (0, 8900)\t1.0\n",
      "  (0, 8926)\t1.0\n",
      "  (0, 8939)\t1.0\n",
      "  (0, 9106)\t1.0\n",
      "  :\t:\n",
      "  (23148, 35121)\t1.0\n",
      "  (23148, 35622)\t1.0\n",
      "  (23148, 35781)\t1.0\n",
      "  (23148, 36494)\t1.0\n",
      "  (23148, 36637)\t1.0\n",
      "  (23148, 36693)\t1.0\n",
      "  (23148, 37372)\t1.0\n",
      "  (23148, 38892)\t1.0\n",
      "  (23148, 39195)\t1.0\n",
      "  (23148, 39524)\t1.0\n",
      "  (23148, 39912)\t1.0\n",
      "  (23148, 39924)\t1.0\n",
      "  (23148, 40047)\t1.0\n",
      "  (23148, 40335)\t1.0\n",
      "  (23148, 42103)\t1.0\n",
      "  (23148, 42520)\t1.0\n",
      "  (23148, 43436)\t1.0\n",
      "  (23148, 43624)\t1.0\n",
      "  (23148, 44229)\t1.0\n",
      "  (23148, 44946)\t1.0\n",
      "  (23148, 45050)\t1.0\n",
      "  (23148, 45500)\t1.0\n",
      "  (23148, 45791)\t1.0\n",
      "  (23148, 46158)\t1.0\n",
      "  (23148, 46199)\t1.0\n"
     ]
    }
   ],
   "source": [
    "data_bin=rcv1.data\n",
    "mask=data_bin.nonzero()\n",
    "data_bin[mask[0],mask[1]]=1\n",
    "print(data_bin)"
   ]
  },
  {
   "cell_type": "markdown",
   "metadata": {},
   "source": [
    "### Infogain"
   ]
  },
  {
   "cell_type": "code",
   "execution_count": 540,
   "metadata": {},
   "outputs": [],
   "source": [
    "reference=rows[0]\n",
    "\n",
    "indexes_to_calc=list(product( np.arange(data_bin.shape[0]), [reference] ))\n",
    "\n",
    "infos=pd.Series(index=pd.MultiIndex.from_tuples(indexes_to_calc),dtype=np.float64,name='info gains')\n",
    "\n",
    "for index in indexes_to_calc[:10]:\n",
    "    #infos.loc[index]=infogain(data_bin[index[0],:],data_bin[index[1],:])\n",
    "    pass\n",
    "    "
   ]
  }
 ],
 "metadata": {
  "interpreter": {
   "hash": "4fdbb716dac2c9f90d8f05ddbd9682f2e348bcb14d7fe92113f264a11f856e83"
  },
  "kernelspec": {
   "display_name": "Python 3.9.9 64-bit",
   "language": "python",
   "name": "python3"
  },
  "language_info": {
   "codemirror_mode": {
    "name": "ipython",
    "version": 3
   },
   "file_extension": ".py",
   "mimetype": "text/x-python",
   "name": "python",
   "nbconvert_exporter": "python",
   "pygments_lexer": "ipython3",
   "version": "3.10.0"
  },
  "orig_nbformat": 4
 },
 "nbformat": 4,
 "nbformat_minor": 2
}
