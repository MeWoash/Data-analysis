{
 "cells": [
  {
   "cell_type": "code",
   "execution_count": 109,
   "metadata": {},
   "outputs": [],
   "source": [
    "import numpy as np\n",
    "import pandas as pd\n",
    "import sklearn as sk\n",
    "from scipy import sparse\n",
    "from itertools import product"
   ]
  },
  {
   "cell_type": "markdown",
   "metadata": {},
   "source": [
    "# Read CSV"
   ]
  },
  {
   "cell_type": "code",
   "execution_count": 110,
   "metadata": {},
   "outputs": [],
   "source": [
    "df=pd.read_csv('zoo.csv')"
   ]
  },
  {
   "cell_type": "markdown",
   "metadata": {},
   "source": [
    "# Zad 1"
   ]
  },
  {
   "cell_type": "code",
   "execution_count": 111,
   "metadata": {},
   "outputs": [
    {
     "name": "stderr",
     "output_type": "stream",
     "text": [
      "C:\\Users\\zubi1\\AppData\\Local\\Temp\\ipykernel_13320\\2487373757.py:10: SparseEfficiencyWarning: Comparing a sparse matrix with 0 using == is inefficient, try using != instead.\n",
      "  mask=(x==val).toarray().squeeze()\n"
     ]
    },
    {
     "data": {
      "text/plain": [
       "col1\n",
       "0    0.80198\n",
       "1    0.19802\n",
       "dtype: float64"
      ]
     },
     "execution_count": 111,
     "metadata": {},
     "output_type": "execute_result"
    }
   ],
   "source": [
    "\n",
    "def freq(x, prob=True):\n",
    "    \n",
    "    if sparse.issparse(x):\n",
    "        #input is scipy.sparse\n",
    "\n",
    "        index = pd.Index([0,1],name='col1')\n",
    "        tmp=pd.Series(index=index,dtype=np.float64)\n",
    "\n",
    "        for val in index:\n",
    "            mask=(x==val).toarray().squeeze()\n",
    "            tmp[val]=sum(mask)\n",
    "\n",
    "        if prob:\n",
    "            tmp=tmp/sum(tmp)\n",
    "         \n",
    "    else:\n",
    "        #input is Series\n",
    "        tmp=x.value_counts(normalize=prob)\n",
    "    \n",
    "    \n",
    "    return tmp\n",
    "\n",
    "\n",
    "freq(df['feathers'])\n",
    "freq(sparse.coo_array(df['feathers']))"
   ]
  },
  {
   "cell_type": "markdown",
   "metadata": {},
   "source": [
    "# Zad 2"
   ]
  },
  {
   "cell_type": "code",
   "execution_count": 112,
   "metadata": {},
   "outputs": [
    {
     "name": "stderr",
     "output_type": "stream",
     "text": [
      "C:\\Users\\zubi1\\AppData\\Local\\Temp\\ipykernel_13320\\243202563.py:9: SparseEfficiencyWarning: Comparing a sparse matrix with 0 using == is inefficient, try using != instead.\n",
      "  mask=np.logical_and((x==val[0]).toarray(),(y==val[1]).toarray()).squeeze()\n"
     ]
    },
    {
     "data": {
      "text/plain": [
       "col1  col2\n",
       "0     0       0.227723\n",
       "      2       0.069307\n",
       "      4       0.376238\n",
       "      5       0.009901\n",
       "      6       0.099010\n",
       "      8       0.019802\n",
       "1     0       0.000000\n",
       "      2       0.198020\n",
       "      4       0.000000\n",
       "      5       0.000000\n",
       "      6       0.000000\n",
       "      8       0.000000\n",
       "dtype: float64"
      ]
     },
     "execution_count": 112,
     "metadata": {},
     "output_type": "execute_result"
    }
   ],
   "source": [
    "def freq2(x, y, prob=True):\n",
    "    if sparse.issparse(x) and sparse.issparse(y):  \n",
    "        #input is scipy.sparse\n",
    "        \n",
    "        index = pd.MultiIndex.from_product([np.unique(np.append(x.data,0)),np.unique(np.append(y.data,0))],names=['col1','col2'])\n",
    "        tmp=pd.Series(index=index,dtype=np.float64)\n",
    "\n",
    "        for val in index:\n",
    "            mask=np.logical_and((x==val[0]).toarray(),(y==val[1]).toarray()).squeeze()\n",
    "            tmp[val]=sum(mask)\n",
    "\n",
    "        if prob:\n",
    "            tmp=tmp/sum(tmp)\n",
    "            \n",
    "        return tmp\n",
    "        \n",
    "    else:\n",
    "        #input is Series\n",
    "        \n",
    "        df=pd.DataFrame({'col1':x,'col2':y})\n",
    "        \n",
    "        index = pd.MultiIndex.from_product([np.unique(x),np.unique(y)],names=['col1','col2'])\n",
    "        tmp=pd.Series(index=index,dtype=np.float64)\n",
    "        \n",
    "        for val in index:\n",
    "            tmp[val]=sum(df.eq(val).all(axis=1))\n",
    "\n",
    "        if prob:\n",
    "            tmp=tmp/sum(tmp)\n",
    "    \n",
    "    \n",
    "        \n",
    "    return tmp\n",
    "\n",
    "freq2(df['feathers'],df['legs'])\n",
    "freq2(sparse.coo_array(df['feathers']),sparse.coo_array(df['legs']))\n"
   ]
  },
  {
   "cell_type": "markdown",
   "metadata": {},
   "source": [
    "# Zad 3"
   ]
  },
  {
   "cell_type": "code",
   "execution_count": 113,
   "metadata": {},
   "outputs": [
    {
     "name": "stdout",
     "output_type": "stream",
     "text": [
      "Numpy entropy:\t 0.7179499765002912\n",
      "My entropy:\t 0.7179499765002912\n",
      "Infogain:\t 0.09668209882120649\n"
     ]
    }
   ],
   "source": [
    "def entropy(p):\n",
    "    return np.sum(p*np.log2(1/p))\n",
    "\n",
    "\n",
    "def infogain(x,y):\n",
    "    xp=freq(x)\n",
    "    yp=freq(y)\n",
    "    xyp=freq2(x,y)\n",
    "    \n",
    "    return entropy(xp) + entropy(yp) - entropy(xyp)\n",
    "\n",
    "    \n",
    "import scipy.stats._entropy\n",
    "\n",
    "#TEST\n",
    "print('Numpy entropy:\\t',scipy.stats._entropy.entropy(freq(df['feathers']),base=2))\n",
    "print('My entropy:\\t',entropy( freq(df['feathers'])) )\n",
    "\n",
    "print('Infogain:\\t',infogain(df['feathers'],df['tail']))"
   ]
  },
  {
   "cell_type": "markdown",
   "metadata": {},
   "source": [
    "# Zad 4"
   ]
  },
  {
   "cell_type": "code",
   "execution_count": 114,
   "metadata": {},
   "outputs": [
    {
     "data": {
      "text/plain": [
       "legs      type    1.363047\n",
       "milk      type    0.974320\n",
       "toothed   type    0.865694\n",
       "eggs      type    0.830138\n",
       "hair      type    0.790675\n",
       "feathers  type    0.717950\n",
       "backbone  type    0.676163\n",
       "breathes  type    0.614494\n",
       "tail      type    0.500460\n",
       "airborne  type    0.469703\n",
       "fins      type    0.466614\n",
       "aquatic   type    0.389487\n",
       "catsize   type    0.308490\n",
       "venomous  type    0.133090\n",
       "predator  type    0.093447\n",
       "domestic  type    0.050669\n",
       "Name: info gains, dtype: float64"
      ]
     },
     "execution_count": 114,
     "metadata": {},
     "output_type": "execute_result"
    }
   ],
   "source": [
    "indexes=pd.MultiIndex.from_product([df.columns[1:-1],['type']])\n",
    "\n",
    "infos=pd.Series(index=indexes,dtype=np.float64,name='info gains')\n",
    "\n",
    "for cols in indexes:\n",
    "    infos.loc[cols]=infogain(df[cols[0]],df[cols[1]])\n",
    "\n",
    "infos.sort_values(ascending=False,inplace=True)\n",
    "infos\n",
    "\n",
    "    "
   ]
  },
  {
   "cell_type": "markdown",
   "metadata": {},
   "source": [
    "# Zad 5"
   ]
  },
  {
   "cell_type": "code",
   "execution_count": 115,
   "metadata": {},
   "outputs": [],
   "source": [
    "from sklearn.datasets import fetch_rcv1\n",
    "rcv1=fetch_rcv1(subset='train')"
   ]
  },
  {
   "cell_type": "markdown",
   "metadata": {},
   "source": [
    "### maska wierszy"
   ]
  },
  {
   "cell_type": "code",
   "execution_count": 116,
   "metadata": {},
   "outputs": [],
   "source": [
    "atrybut='GSPO'\n",
    "tindex=(rcv1.target_names==atrybut).nonzero()[0]\n",
    "rows=rcv1.target[:,tindex].nonzero()[0]"
   ]
  },
  {
   "cell_type": "markdown",
   "metadata": {},
   "source": [
    "### binaryzacja"
   ]
  },
  {
   "cell_type": "code",
   "execution_count": 117,
   "metadata": {},
   "outputs": [],
   "source": [
    "data_bin=rcv1.data\n",
    "mask=data_bin.nonzero()\n",
    "data_bin[mask[0],mask[1]]=1"
   ]
  },
  {
   "cell_type": "markdown",
   "metadata": {},
   "source": [
    "### Infogain"
   ]
  },
  {
   "cell_type": "code",
   "execution_count": 118,
   "metadata": {},
   "outputs": [
    {
     "name": "stderr",
     "output_type": "stream",
     "text": [
      "C:\\Users\\zubi1\\AppData\\Local\\Temp\\ipykernel_13320\\1846184675.py:6: SparseEfficiencyWarning: Comparing a sparse matrix with 0 using == is inefficient, try using != instead.\n",
      "  xp=freq(x)\n",
      "C:\\Users\\zubi1\\AppData\\Local\\Temp\\ipykernel_13320\\1846184675.py:7: SparseEfficiencyWarning: Comparing a sparse matrix with 0 using == is inefficient, try using != instead.\n",
      "  yp=freq(y)\n",
      "C:\\Users\\zubi1\\AppData\\Local\\Temp\\ipykernel_13320\\1846184675.py:8: SparseEfficiencyWarning: Comparing a sparse matrix with 0 using == is inefficient, try using != instead.\n",
      "  xyp=freq2(x,y)\n"
     ]
    }
   ],
   "source": [
    "reference=0\n",
    "\n",
    "indexes_to_calc=list(product( np.arange(data_bin.shape[0]), [reference] ))\n",
    "\n",
    "infos=pd.Series(index=pd.MultiIndex.from_tuples(indexes_to_calc),dtype=np.float64,name='info gains')\n",
    "\n",
    "for index in indexes_to_calc[:10]:\n",
    "    infos.loc[index]=infogain(data_bin[index[0],:],data_bin[index[1],:])\n",
    "    "
   ]
  },
  {
   "cell_type": "code",
   "execution_count": 119,
   "metadata": {},
   "outputs": [
    {
     "name": "stdout",
     "output_type": "stream",
     "text": [
      "0      0    0.028805\n",
      "6      0    0.005132\n",
      "1      0    0.002982\n",
      "5      0    0.002646\n",
      "7      0    0.002340\n",
      "              ...   \n",
      "23144  0         NaN\n",
      "23145  0         NaN\n",
      "23146  0         NaN\n",
      "23147  0         NaN\n",
      "23148  0         NaN\n",
      "Name: info gains, Length: 23149, dtype: float64\n"
     ]
    }
   ],
   "source": [
    "print(infos.sort_values(ascending=False))"
   ]
  },
  {
   "cell_type": "markdown",
   "metadata": {},
   "source": [
    "### Porownanie"
   ]
  },
  {
   "cell_type": "code",
   "execution_count": 120,
   "metadata": {},
   "outputs": [
    {
     "name": "stderr",
     "output_type": "stream",
     "text": [
      "C:\\Users\\zubi1\\AppData\\Local\\Temp\\ipykernel_13320\\1846184675.py:6: SparseEfficiencyWarning: Comparing a sparse matrix with 0 using == is inefficient, try using != instead.\n",
      "  xp=freq(x)\n",
      "C:\\Users\\zubi1\\AppData\\Local\\Temp\\ipykernel_13320\\1846184675.py:7: SparseEfficiencyWarning: Comparing a sparse matrix with 0 using == is inefficient, try using != instead.\n",
      "  yp=freq(y)\n",
      "C:\\Users\\zubi1\\AppData\\Local\\Temp\\ipykernel_13320\\1846184675.py:8: SparseEfficiencyWarning: Comparing a sparse matrix with 0 using == is inefficient, try using != instead.\n",
      "  xyp=freq2(x,y)\n"
     ]
    },
    {
     "name": "stdout",
     "output_type": "stream",
     "text": [
      "pd size:\t756064 Bytes,\ttime:\t0.019976377487182617,\tvalue:\t0.02880500297011144\n",
      "sp size:\t96 Bytes,\ttime:\t0.7714474201202393,\tvalue:\t0.02880500297011144\n"
     ]
    }
   ],
   "source": [
    "from time import time\n",
    "import sys\n",
    "\n",
    "sample1=data_bin[0,:]\n",
    "sample2=data_bin[0,:]\n",
    "\n",
    "pd_object1=pd.Series(sample1.toarray().squeeze())\n",
    "pd_object2=pd.Series(sample2.toarray().squeeze())\n",
    "\n",
    "sp_object1=sample1\n",
    "sp_object2=sample2\n",
    "\n",
    "t=time()\n",
    "i1=infogain(pd_object1,pd_object2)\n",
    "t1=time()-t\n",
    "\n",
    "t=time()\n",
    "i2=infogain(sp_object1,sp_object2)\n",
    "t2=time()-t\n",
    "\n",
    "print(f'pd size:\\t{sys.getsizeof(pd_object1)+sys.getsizeof(pd_object2)} Bytes,\\ttime:\\t{t1},\\tvalue:\\t{i1}')\n",
    "print(f'sp size:\\t{sys.getsizeof(sp_object1)+sys.getsizeof(sp_object2)} Bytes,\\ttime:\\t{t2},\\tvalue:\\t{i2}')\n"
   ]
  }
 ],
 "metadata": {
  "interpreter": {
   "hash": "4fdbb716dac2c9f90d8f05ddbd9682f2e348bcb14d7fe92113f264a11f856e83"
  },
  "kernelspec": {
   "display_name": "Python 3.9.9 64-bit",
   "language": "python",
   "name": "python3"
  },
  "language_info": {
   "codemirror_mode": {
    "name": "ipython",
    "version": 3
   },
   "file_extension": ".py",
   "mimetype": "text/x-python",
   "name": "python",
   "nbconvert_exporter": "python",
   "pygments_lexer": "ipython3",
   "version": "3.10.0"
  },
  "orig_nbformat": 4
 },
 "nbformat": 4,
 "nbformat_minor": 2
}
