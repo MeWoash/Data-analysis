{
 "cells": [
  {
   "cell_type": "code",
   "execution_count": 556,
   "metadata": {},
   "outputs": [],
   "source": [
    "import numpy as np\n",
    "import pandas as pd\n",
    "import sklearn as sk\n",
    "import scipy\n",
    "from itertools import product"
   ]
  },
  {
   "cell_type": "markdown",
   "metadata": {},
   "source": [
    "# READ CSV"
   ]
  },
  {
   "cell_type": "code",
   "execution_count": 557,
   "metadata": {},
   "outputs": [],
   "source": [
    "df=pd.read_csv('zoo.csv')"
   ]
  },
  {
   "cell_type": "markdown",
   "metadata": {},
   "source": [
    "# Zad 1"
   ]
  },
  {
   "cell_type": "code",
   "execution_count": 558,
   "metadata": {},
   "outputs": [
    {
     "data": {
      "text/plain": [
       "False    0.80198\n",
       "True     0.19802\n",
       "Name: feathers, dtype: float64"
      ]
     },
     "execution_count": 558,
     "metadata": {},
     "output_type": "execute_result"
    }
   ],
   "source": [
    "\n",
    "def freq(x, prob=True):\n",
    "    tmp=x.value_counts()\n",
    "    if prob:\n",
    "        tmp=tmp/x.count()\n",
    "    return tmp\n",
    "\n",
    "freq(df['feathers'])"
   ]
  },
  {
   "cell_type": "markdown",
   "metadata": {},
   "source": [
    "# Zad 2"
   ]
  },
  {
   "cell_type": "code",
   "execution_count": 559,
   "metadata": {},
   "outputs": [
    {
     "data": {
      "text/plain": [
       "False  False    0.257426\n",
       "       True     0.544554\n",
       "True   False    0.000000\n",
       "       True     0.198020\n",
       "dtype: float64"
      ]
     },
     "execution_count": 559,
     "metadata": {},
     "output_type": "execute_result"
    }
   ],
   "source": [
    "def freq2(x, y, prob=True):\n",
    "    df=pd.DataFrame({x.name:x,y.name:y})\n",
    "    \n",
    "    index = pd.MultiIndex.from_product([np.unique(x),np.unique(y)])\n",
    "    tmp=pd.Series(index=index,dtype=np.float64)\n",
    "    \n",
    "    for val in tmp.index:\n",
    "        tmp[tuple(val)]=sum(np.logical_and(df[x.name]==val[0],df[y.name]==val[1]))\n",
    "    \n",
    "    if prob:\n",
    "        tmp=tmp/sum(tmp)\n",
    "    \n",
    "    return tmp\n",
    "\n",
    "freq2(df['feathers'],df['tail'])\n"
   ]
  },
  {
   "cell_type": "markdown",
   "metadata": {},
   "source": [
    "# Zad 3"
   ]
  },
  {
   "cell_type": "code",
   "execution_count": 560,
   "metadata": {},
   "outputs": [
    {
     "name": "stdout",
     "output_type": "stream",
     "text": [
      "0.7179499765002912\n",
      "0.7179499765002912\n",
      "0.09668209882120649\n"
     ]
    }
   ],
   "source": [
    "def entropy(p):\n",
    "    return np.sum(p*np.log2(1/p))\n",
    "    # H=0\n",
    "    # for i in range(len(x)):\n",
    "        \n",
    "    #     if x.iloc[i]!=0:\n",
    "    #         H+= x.iloc[i]*np.log2(1/x.iloc[i])\n",
    "    #     else:\n",
    "    #         pass\n",
    "    # return H\n",
    "\n",
    "\n",
    "def infogain(x,y):\n",
    "    xp=freq(x)\n",
    "    yp=freq(y)\n",
    "    xyp=freq2(x,y)\n",
    "    \n",
    "    return entropy(xp) + entropy(yp) - entropy(xyp)\n",
    "    \n",
    "import scipy.stats._entropy\n",
    "\n",
    "#TEST\n",
    "print(scipy.stats._entropy.entropy(freq(df['feathers']),base=2))\n",
    "print( entropy( freq(df['feathers'])) )\n",
    "\n",
    "print(infogain(df['feathers'],df['tail']))"
   ]
  },
  {
   "cell_type": "markdown",
   "metadata": {},
   "source": [
    "# Zad 4"
   ]
  },
  {
   "cell_type": "code",
   "execution_count": 562,
   "metadata": {},
   "outputs": [
    {
     "data": {
      "text/plain": [
       "legs      type    1.363047\n",
       "milk      type    0.974320\n",
       "toothed   type    0.865694\n",
       "eggs      type    0.830138\n",
       "hair      type    0.790675\n",
       "feathers  type    0.717950\n",
       "backbone  type    0.676163\n",
       "breathes  type    0.614494\n",
       "tail      type    0.500460\n",
       "airborne  type    0.469703\n",
       "fins      type    0.466614\n",
       "aquatic   type    0.389487\n",
       "catsize   type    0.308490\n",
       "venomous  type    0.133090\n",
       "predator  type    0.093447\n",
       "domestic  type    0.050669\n",
       "Name: info gains, dtype: float64"
      ]
     },
     "execution_count": 562,
     "metadata": {},
     "output_type": "execute_result"
    }
   ],
   "source": [
    "indexes=pd.MultiIndex.from_product([df.columns[1:-1],['type']])\n",
    "infos=pd.Series(index=indexes,dtype=np.float64,name='info gains')\n",
    "\n",
    "for cols in indexes:\n",
    "    infos.loc[cols]=infogain(df[cols[0]],df[cols[1]])\n",
    "\n",
    "infos.sort_values(ascending=False,inplace=True)\n",
    "infos\n",
    "\n",
    "    "
   ]
  },
  {
   "cell_type": "markdown",
   "metadata": {},
   "source": [
    "# Zad 5"
   ]
  },
  {
   "cell_type": "code",
   "execution_count": null,
   "metadata": {},
   "outputs": [],
   "source": []
  }
 ],
 "metadata": {
  "interpreter": {
   "hash": "4fdbb716dac2c9f90d8f05ddbd9682f2e348bcb14d7fe92113f264a11f856e83"
  },
  "kernelspec": {
   "display_name": "Python 3.9.9 64-bit",
   "language": "python",
   "name": "python3"
  },
  "language_info": {
   "codemirror_mode": {
    "name": "ipython",
    "version": 3
   },
   "file_extension": ".py",
   "mimetype": "text/x-python",
   "name": "python",
   "nbconvert_exporter": "python",
   "pygments_lexer": "ipython3",
   "version": "3.9.9"
  },
  "orig_nbformat": 4
 },
 "nbformat": 4,
 "nbformat_minor": 2
}
