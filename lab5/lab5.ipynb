{
 "cells": [
  {
   "cell_type": "code",
   "execution_count": 1,
   "metadata": {},
   "outputs": [],
   "source": [
    "import numpy as np\n",
    "import pandas as pd\n",
    "import sklearn as sk\n",
    "from scipy import sparse\n",
    "from itertools import product"
   ]
  },
  {
   "cell_type": "markdown",
   "metadata": {},
   "source": [
    "# Read CSV"
   ]
  },
  {
   "cell_type": "code",
   "execution_count": 2,
   "metadata": {},
   "outputs": [],
   "source": [
    "df=pd.read_csv('zoo.csv')"
   ]
  },
  {
   "cell_type": "markdown",
   "metadata": {},
   "source": [
    "# Zad 1"
   ]
  },
  {
   "cell_type": "code",
   "execution_count": 3,
   "metadata": {},
   "outputs": [
    {
     "data": {
      "text/plain": [
       "0       0.80198\n",
       "True    0.19802\n",
       "dtype: float64"
      ]
     },
     "execution_count": 3,
     "metadata": {},
     "output_type": "execute_result"
    }
   ],
   "source": [
    "\n",
    "def freq(x, prob=True):\n",
    "    \n",
    "    if sparse.issparse(x):\n",
    "        x=pd.DataFrame.sparse.from_spmatrix(x.transpose())\n",
    "         \n",
    "    tmp=x.value_counts(normalize=prob)\n",
    "    \n",
    "    return tmp\n",
    "\n",
    "\n",
    "freq(df['feathers'])\n",
    "freq(sparse.coo_array(df['feathers']))"
   ]
  },
  {
   "cell_type": "markdown",
   "metadata": {},
   "source": [
    "# Zad 2"
   ]
  },
  {
   "cell_type": "code",
   "execution_count": 4,
   "metadata": {},
   "outputs": [
    {
     "data": {
      "text/plain": [
       "col1  col2\n",
       "0     0       0.227723\n",
       "      2       0.069307\n",
       "      4       0.376238\n",
       "      5       0.009901\n",
       "      6       0.099010\n",
       "      8       0.019802\n",
       "1     0       0.000000\n",
       "      2       0.198020\n",
       "      4       0.000000\n",
       "      5       0.000000\n",
       "      6       0.000000\n",
       "      8       0.000000\n",
       "dtype: float64"
      ]
     },
     "execution_count": 4,
     "metadata": {},
     "output_type": "execute_result"
    }
   ],
   "source": [
    "def freq2(x, y, prob=True):\n",
    "    if sparse.issparse(x) and sparse.issparse(y):  \n",
    "        df=pd.DataFrame.sparse.from_spmatrix(sparse.hstack([x.transpose(),y.transpose()]),columns=['col1','col2'])\n",
    "        x=pd.DataFrame.sparse.from_spmatrix(x.transpose())\n",
    "        y=pd.DataFrame.sparse.from_spmatrix(y.transpose())\n",
    "    else:\n",
    "        #input is Series\n",
    "        df=pd.DataFrame({'col1':x,'col2':y})\n",
    "        \n",
    "    index = pd.MultiIndex.from_product([np.unique(x),np.unique(y)],names=['col1','col2'])\n",
    "    tmp=pd.Series(index=index,dtype=np.float64)\n",
    "    \n",
    "    for val in index:\n",
    "        tmp[val]=sum(df.eq(val).all(axis=1))\n",
    "\n",
    "    if prob:\n",
    "        tmp=tmp/sum(tmp)\n",
    "    \n",
    "    \n",
    "    return tmp\n",
    "\n",
    "freq2(df['feathers'],df['legs'])\n",
    "freq2(sparse.coo_array(df['feathers']),sparse.coo_array(df['legs']))\n"
   ]
  },
  {
   "cell_type": "markdown",
   "metadata": {},
   "source": [
    "# Zad 3"
   ]
  },
  {
   "cell_type": "code",
   "execution_count": 5,
   "metadata": {},
   "outputs": [
    {
     "name": "stdout",
     "output_type": "stream",
     "text": [
      "Numpy entropy:\t 0.7179499765002912\n",
      "My entropy:\t 0.7179499765002912\n",
      "Infogain:\t 0.09668209882120649\n"
     ]
    }
   ],
   "source": [
    "def entropy(p):\n",
    "    return np.sum(p*np.log2(1/p))\n",
    "\n",
    "\n",
    "def infogain(x,y):\n",
    "    xp=freq(x)\n",
    "    yp=freq(y)\n",
    "    xyp=freq2(x,y)\n",
    "    \n",
    "    return entropy(xp) + entropy(yp) - entropy(xyp)\n",
    "\n",
    "    \n",
    "import scipy.stats._entropy\n",
    "\n",
    "#TEST\n",
    "print('Numpy entropy:\\t',scipy.stats._entropy.entropy(freq(df['feathers']),base=2))\n",
    "print('My entropy:\\t',entropy( freq(df['feathers'])) )\n",
    "\n",
    "print('Infogain:\\t',infogain(df['feathers'],df['tail']))"
   ]
  },
  {
   "cell_type": "markdown",
   "metadata": {},
   "source": [
    "# Zad 4"
   ]
  },
  {
   "cell_type": "code",
   "execution_count": 6,
   "metadata": {},
   "outputs": [
    {
     "data": {
      "text/plain": [
       "legs      type    1.363047\n",
       "milk      type    0.974320\n",
       "toothed   type    0.865694\n",
       "eggs      type    0.830138\n",
       "hair      type    0.790675\n",
       "feathers  type    0.717950\n",
       "backbone  type    0.676163\n",
       "breathes  type    0.614494\n",
       "tail      type    0.500460\n",
       "airborne  type    0.469703\n",
       "fins      type    0.466614\n",
       "aquatic   type    0.389487\n",
       "catsize   type    0.308490\n",
       "venomous  type    0.133090\n",
       "predator  type    0.093447\n",
       "domestic  type    0.050669\n",
       "Name: info gains, dtype: float64"
      ]
     },
     "execution_count": 6,
     "metadata": {},
     "output_type": "execute_result"
    }
   ],
   "source": [
    "indexes=pd.MultiIndex.from_product([df.columns[1:-1],['type']])\n",
    "\n",
    "infos=pd.Series(index=indexes,dtype=np.float64,name='info gains')\n",
    "\n",
    "for cols in indexes:\n",
    "    infos.loc[cols]=infogain(df[cols[0]],df[cols[1]])\n",
    "\n",
    "infos.sort_values(ascending=False,inplace=True)\n",
    "infos\n",
    "\n",
    "    "
   ]
  },
  {
   "cell_type": "markdown",
   "metadata": {},
   "source": [
    "# Zad 5"
   ]
  },
  {
   "cell_type": "code",
   "execution_count": 7,
   "metadata": {},
   "outputs": [],
   "source": [
    "from sklearn.datasets import fetch_rcv1\n",
    "rcv1=fetch_rcv1(subset='train')"
   ]
  },
  {
   "cell_type": "markdown",
   "metadata": {},
   "source": [
    "### maska wierszy"
   ]
  },
  {
   "cell_type": "code",
   "execution_count": 8,
   "metadata": {},
   "outputs": [],
   "source": [
    "atrybut='GSPO'\n",
    "tindex=(rcv1.target_names==atrybut).nonzero()[0]\n",
    "rows=rcv1.target[:,tindex].nonzero()[0]"
   ]
  },
  {
   "cell_type": "markdown",
   "metadata": {},
   "source": [
    "### binaryzacja"
   ]
  },
  {
   "cell_type": "code",
   "execution_count": 9,
   "metadata": {},
   "outputs": [],
   "source": [
    "data_bin=rcv1.data\n",
    "mask=data_bin.nonzero()\n",
    "data_bin[mask[0],mask[1]]=1"
   ]
  },
  {
   "cell_type": "markdown",
   "metadata": {},
   "source": [
    "### Infogain"
   ]
  },
  {
   "cell_type": "code",
   "execution_count": 10,
   "metadata": {},
   "outputs": [],
   "source": [
    "reference=0\n",
    "\n",
    "indexes_to_calc=list(product( np.arange(data_bin.shape[0]), [reference] ))\n",
    "\n",
    "infos=pd.Series(index=pd.MultiIndex.from_tuples(indexes_to_calc),dtype=np.float64,name='info gains')\n",
    "\n",
    "for index in indexes_to_calc[:100]:\n",
    "    infos.loc[index]=infogain(data_bin[index[0],:],data_bin[index[1],:])\n",
    "    "
   ]
  },
  {
   "cell_type": "code",
   "execution_count": 11,
   "metadata": {},
   "outputs": [
    {
     "data": {
      "text/plain": [
       "0   0    0.028805\n",
       "6   0    0.005132\n",
       "11  0    0.004746\n",
       "63  0    0.004495\n",
       "28  0    0.004058\n",
       "12  0    0.003878\n",
       "82  0    0.003838\n",
       "49  0    0.003294\n",
       "48  0    0.003294\n",
       "90  0    0.003203\n",
       "22  0    0.003170\n",
       "1   0    0.002982\n",
       "98  0    0.002961\n",
       "75  0    0.002899\n",
       "36  0    0.002875\n",
       "88  0    0.002828\n",
       "38  0    0.002809\n",
       "65  0    0.002772\n",
       "91  0    0.002742\n",
       "52  0    0.002702\n",
       "50  0    0.002702\n",
       "54  0    0.002697\n",
       "53  0    0.002697\n",
       "5   0    0.002646\n",
       "10  0    0.002599\n",
       "51  0    0.002546\n",
       "7   0    0.002340\n",
       "33  0    0.002252\n",
       "17  0    0.002121\n",
       "78  0    0.002087\n",
       "39  0    0.002003\n",
       "86  0    0.001926\n",
       "68  0    0.001862\n",
       "3   0    0.001862\n",
       "58  0    0.001862\n",
       "2   0    0.001862\n",
       "9   0    0.001852\n",
       "96  0    0.001709\n",
       "40  0    0.001615\n",
       "67  0    0.001608\n",
       "21  0    0.001606\n",
       "74  0    0.001601\n",
       "30  0    0.001585\n",
       "32  0    0.001572\n",
       "31  0    0.001572\n",
       "57  0    0.001508\n",
       "26  0    0.001444\n",
       "84  0    0.001413\n",
       "79  0    0.001380\n",
       "25  0    0.001369\n",
       "Name: info gains, dtype: float64"
      ]
     },
     "execution_count": 11,
     "metadata": {},
     "output_type": "execute_result"
    }
   ],
   "source": [
    "infos.sort_values(ascending=False).head(50)"
   ]
  },
  {
   "cell_type": "markdown",
   "metadata": {},
   "source": [
    "### Porownanie"
   ]
  },
  {
   "cell_type": "code",
   "execution_count": 12,
   "metadata": {},
   "outputs": [
    {
     "name": "stdout",
     "output_type": "stream",
     "text": [
      "pd size:\t756064 Bytes,\ttime:\t0.01892232894897461,\tvalue:\t0.02880500297011144\n",
      "sp size:\t96 Bytes,\ttime:\t0.024849414825439453,\tvalue:\t0.02880500297011144\n"
     ]
    }
   ],
   "source": [
    "from time import time\n",
    "import sys\n",
    "\n",
    "sample1=data_bin[0,:]\n",
    "sample2=data_bin[0,:]\n",
    "\n",
    "pd_object1=pd.Series(sample1.toarray().squeeze())\n",
    "pd_object2=pd.Series(sample2.toarray().squeeze())\n",
    "\n",
    "sp_object1=sample1\n",
    "sp_object2=sample2\n",
    "\n",
    "t=time()\n",
    "i1=infogain(pd_object1,pd_object2)\n",
    "t1=time()-t\n",
    "\n",
    "t=time()\n",
    "i2=infogain(sp_object1,sp_object2)\n",
    "t2=time()-t\n",
    "\n",
    "print(f'pd size:\\t{sys.getsizeof(pd_object1)+sys.getsizeof(pd_object2)} Bytes,\\ttime:\\t{t1},\\tvalue:\\t{i1}')\n",
    "print(f'sp size:\\t{sys.getsizeof(sp_object1)+sys.getsizeof(sp_object2)} Bytes,\\ttime:\\t{t2},\\tvalue:\\t{i2}')\n"
   ]
  }
 ],
 "metadata": {
  "interpreter": {
   "hash": "4fdbb716dac2c9f90d8f05ddbd9682f2e348bcb14d7fe92113f264a11f856e83"
  },
  "kernelspec": {
   "display_name": "Python 3.9.9 64-bit",
   "language": "python",
   "name": "python3"
  },
  "language_info": {
   "codemirror_mode": {
    "name": "ipython",
    "version": 3
   },
   "file_extension": ".py",
   "mimetype": "text/x-python",
   "name": "python",
   "nbconvert_exporter": "python",
   "pygments_lexer": "ipython3",
   "version": "3.10.0"
  },
  "orig_nbformat": 4
 },
 "nbformat": 4,
 "nbformat_minor": 2
}
