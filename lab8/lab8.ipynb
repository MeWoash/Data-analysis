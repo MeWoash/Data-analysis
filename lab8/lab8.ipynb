{
 "cells": [
  {
   "cell_type": "markdown",
   "metadata": {},
   "source": [
    "# imports"
   ]
  },
  {
   "cell_type": "code",
   "execution_count": 903,
   "metadata": {},
   "outputs": [],
   "source": [
    "import numpy as np\n",
    "import pandas as pd\n",
    "import matplotlib.pyplot as plt\n",
    "import scipy\n",
    "import copy\n",
    "from sklearn.decomposition import PCA\n",
    "from sklearn.preprocessing import OneHotEncoder\n",
    "from scipy.spatial import distance\n",
    "\n",
    "import warnings\n",
    "warnings.filterwarnings('ignore')\n",
    "\n",
    "%matplotlib inline\n",
    "#%matplotlib widget\n",
    "#%matplotlib qt"
   ]
  },
  {
   "cell_type": "markdown",
   "metadata": {},
   "source": [
    "# class"
   ]
  },
  {
   "cell_type": "code",
   "execution_count": 904,
   "metadata": {},
   "outputs": [],
   "source": [
    "class KMeans:\n",
    "    \n",
    "    def __init__(self,k_clusters=8):\n",
    "        self.k_clusters=k_clusters\n",
    "    \n",
    "    def fit(self,X):\n",
    "        self.X=X\n",
    "        self.Vi=np.linalg.inv(np.cov(self.X.T))\n",
    "    \n",
    "    def predict(self, dist_f = None ,n_iterations=100):\n",
    "        if dist_f==None:\n",
    "            dist_f=self.distp\n",
    "        \n",
    "        self.P=np.zeros((self.X.shape[0], 1))\n",
    "        self.C=self.X[np.random.randint(self.X.shape[0], size=self.k_clusters),:]\n",
    "        \n",
    "        self.n_iter=0\n",
    "        while self.n_iter<n_iterations:\n",
    "            \n",
    "            prev_P=copy.copy(self.P)\n",
    "            prev_C=copy.copy(self.C)\n",
    "            \n",
    "            self.__choose_clusters(dist_f=dist_f)\n",
    "            self.___new_centers()\n",
    "            \n",
    "            self.n_iter+=1\n",
    "            if np.all(prev_P==self.P) or np.all(prev_C ==self.C):\n",
    "                break\n",
    "            \n",
    "        return self.P\n",
    "\n",
    "        \n",
    "    def __choose_clusters(self,dist_f):\n",
    "        \n",
    "        for i in range(self.X.shape[0]):\n",
    "            X=self.X[i,:]\n",
    "            #dist=np.sqrt(np.sum(np.power(X-self.C,2),axis=1))\n",
    "            dist=dist_f(X,self.C)\n",
    "            cluster=np.argsort(dist)[0]\n",
    "            self.P[i]=int(cluster)\n",
    "            \n",
    "    def ___new_centers(self):\n",
    "        for i in range(self.k_clusters):\n",
    "            index=np.where(self.P.ravel()==i)[0]\n",
    "            rows=self.X[index,:]\n",
    "            m=np.mean(rows,axis=0)\n",
    "            self.C[i,:]=m\n",
    "\n",
    "    \n",
    "    def distp(self,X,C):\n",
    "        return np.linalg.norm(X-C,axis=1)\n",
    "    \n",
    "    def distm(self,X,C):\n",
    "        dist=np.array([])\n",
    "        \n",
    "        dist=distance.cdist(np.broadcast_to(X,C.shape), C,'mahalanobis')[0,:]\n",
    "        \n",
    "        return dist\n",
    "    \n",
    "    "
   ]
  },
  {
   "cell_type": "markdown",
   "metadata": {},
   "source": [
    "# dataset"
   ]
  },
  {
   "cell_type": "code",
   "execution_count": 905,
   "metadata": {},
   "outputs": [
    {
     "name": "stdout",
     "output_type": "stream",
     "text": [
      "Index(['normalized-losses', 'make', 'fuel-type', 'aspiration', 'num-of-doors',\n",
      "       'body-style', 'drive-wheels', 'engine-location', 'wheel-base', 'length',\n",
      "       'width', 'height', 'curb-weight', 'engine-type', 'num-of-cylinders',\n",
      "       'engine-size', 'fuel-system', 'bore', 'stroke', 'compression-ratio',\n",
      "       'horsepower', 'peak-rpm', 'city-mpg', 'highway-mpg', 'price',\n",
      "       'symboling'],\n",
      "      dtype='object')\n",
      "number of unique makes: 22\n"
     ]
    },
    {
     "data": {
      "text/html": [
       "<div>\n",
       "<style scoped>\n",
       "    .dataframe tbody tr th:only-of-type {\n",
       "        vertical-align: middle;\n",
       "    }\n",
       "\n",
       "    .dataframe tbody tr th {\n",
       "        vertical-align: top;\n",
       "    }\n",
       "\n",
       "    .dataframe thead th {\n",
       "        text-align: right;\n",
       "    }\n",
       "</style>\n",
       "<table border=\"1\" class=\"dataframe\">\n",
       "  <thead>\n",
       "    <tr style=\"text-align: right;\">\n",
       "      <th></th>\n",
       "      <th>normalized-losses</th>\n",
       "      <th>make</th>\n",
       "      <th>fuel-type</th>\n",
       "      <th>aspiration</th>\n",
       "      <th>num-of-doors</th>\n",
       "      <th>body-style</th>\n",
       "      <th>drive-wheels</th>\n",
       "      <th>engine-location</th>\n",
       "      <th>wheel-base</th>\n",
       "      <th>length</th>\n",
       "      <th>...</th>\n",
       "      <th>fuel-system</th>\n",
       "      <th>bore</th>\n",
       "      <th>stroke</th>\n",
       "      <th>compression-ratio</th>\n",
       "      <th>horsepower</th>\n",
       "      <th>peak-rpm</th>\n",
       "      <th>city-mpg</th>\n",
       "      <th>highway-mpg</th>\n",
       "      <th>price</th>\n",
       "      <th>symboling</th>\n",
       "    </tr>\n",
       "  </thead>\n",
       "  <tbody>\n",
       "    <tr>\n",
       "      <th>0</th>\n",
       "      <td>NaN</td>\n",
       "      <td>alfa-romero</td>\n",
       "      <td>gas</td>\n",
       "      <td>std</td>\n",
       "      <td>two</td>\n",
       "      <td>convertible</td>\n",
       "      <td>rwd</td>\n",
       "      <td>front</td>\n",
       "      <td>88.6</td>\n",
       "      <td>168.8</td>\n",
       "      <td>...</td>\n",
       "      <td>mpfi</td>\n",
       "      <td>3.47</td>\n",
       "      <td>2.68</td>\n",
       "      <td>9.0</td>\n",
       "      <td>111.0</td>\n",
       "      <td>5000.0</td>\n",
       "      <td>21.0</td>\n",
       "      <td>27.0</td>\n",
       "      <td>13495.0</td>\n",
       "      <td>3</td>\n",
       "    </tr>\n",
       "    <tr>\n",
       "      <th>1</th>\n",
       "      <td>NaN</td>\n",
       "      <td>alfa-romero</td>\n",
       "      <td>gas</td>\n",
       "      <td>std</td>\n",
       "      <td>two</td>\n",
       "      <td>convertible</td>\n",
       "      <td>rwd</td>\n",
       "      <td>front</td>\n",
       "      <td>88.6</td>\n",
       "      <td>168.8</td>\n",
       "      <td>...</td>\n",
       "      <td>mpfi</td>\n",
       "      <td>3.47</td>\n",
       "      <td>2.68</td>\n",
       "      <td>9.0</td>\n",
       "      <td>111.0</td>\n",
       "      <td>5000.0</td>\n",
       "      <td>21.0</td>\n",
       "      <td>27.0</td>\n",
       "      <td>16500.0</td>\n",
       "      <td>3</td>\n",
       "    </tr>\n",
       "    <tr>\n",
       "      <th>2</th>\n",
       "      <td>NaN</td>\n",
       "      <td>alfa-romero</td>\n",
       "      <td>gas</td>\n",
       "      <td>std</td>\n",
       "      <td>two</td>\n",
       "      <td>hatchback</td>\n",
       "      <td>rwd</td>\n",
       "      <td>front</td>\n",
       "      <td>94.5</td>\n",
       "      <td>171.2</td>\n",
       "      <td>...</td>\n",
       "      <td>mpfi</td>\n",
       "      <td>2.68</td>\n",
       "      <td>3.47</td>\n",
       "      <td>9.0</td>\n",
       "      <td>154.0</td>\n",
       "      <td>5000.0</td>\n",
       "      <td>19.0</td>\n",
       "      <td>26.0</td>\n",
       "      <td>16500.0</td>\n",
       "      <td>1</td>\n",
       "    </tr>\n",
       "    <tr>\n",
       "      <th>3</th>\n",
       "      <td>164.0</td>\n",
       "      <td>audi</td>\n",
       "      <td>gas</td>\n",
       "      <td>std</td>\n",
       "      <td>four</td>\n",
       "      <td>sedan</td>\n",
       "      <td>fwd</td>\n",
       "      <td>front</td>\n",
       "      <td>99.8</td>\n",
       "      <td>176.6</td>\n",
       "      <td>...</td>\n",
       "      <td>mpfi</td>\n",
       "      <td>3.19</td>\n",
       "      <td>3.40</td>\n",
       "      <td>10.0</td>\n",
       "      <td>102.0</td>\n",
       "      <td>5500.0</td>\n",
       "      <td>24.0</td>\n",
       "      <td>30.0</td>\n",
       "      <td>13950.0</td>\n",
       "      <td>2</td>\n",
       "    </tr>\n",
       "    <tr>\n",
       "      <th>4</th>\n",
       "      <td>164.0</td>\n",
       "      <td>audi</td>\n",
       "      <td>gas</td>\n",
       "      <td>std</td>\n",
       "      <td>four</td>\n",
       "      <td>sedan</td>\n",
       "      <td>4wd</td>\n",
       "      <td>front</td>\n",
       "      <td>99.4</td>\n",
       "      <td>176.6</td>\n",
       "      <td>...</td>\n",
       "      <td>mpfi</td>\n",
       "      <td>3.19</td>\n",
       "      <td>3.40</td>\n",
       "      <td>8.0</td>\n",
       "      <td>115.0</td>\n",
       "      <td>5500.0</td>\n",
       "      <td>18.0</td>\n",
       "      <td>22.0</td>\n",
       "      <td>17450.0</td>\n",
       "      <td>2</td>\n",
       "    </tr>\n",
       "  </tbody>\n",
       "</table>\n",
       "<p>5 rows × 26 columns</p>\n",
       "</div>"
      ],
      "text/plain": [
       "   normalized-losses         make fuel-type aspiration num-of-doors  \\\n",
       "0                NaN  alfa-romero       gas        std          two   \n",
       "1                NaN  alfa-romero       gas        std          two   \n",
       "2                NaN  alfa-romero       gas        std          two   \n",
       "3              164.0         audi       gas        std         four   \n",
       "4              164.0         audi       gas        std         four   \n",
       "\n",
       "    body-style drive-wheels engine-location  wheel-base  length  ...  \\\n",
       "0  convertible          rwd           front        88.6   168.8  ...   \n",
       "1  convertible          rwd           front        88.6   168.8  ...   \n",
       "2    hatchback          rwd           front        94.5   171.2  ...   \n",
       "3        sedan          fwd           front        99.8   176.6  ...   \n",
       "4        sedan          4wd           front        99.4   176.6  ...   \n",
       "\n",
       "   fuel-system  bore  stroke compression-ratio horsepower  peak-rpm city-mpg  \\\n",
       "0         mpfi  3.47    2.68               9.0      111.0    5000.0     21.0   \n",
       "1         mpfi  3.47    2.68               9.0      111.0    5000.0     21.0   \n",
       "2         mpfi  2.68    3.47               9.0      154.0    5000.0     19.0   \n",
       "3         mpfi  3.19    3.40              10.0      102.0    5500.0     24.0   \n",
       "4         mpfi  3.19    3.40               8.0      115.0    5500.0     18.0   \n",
       "\n",
       "   highway-mpg    price  symboling  \n",
       "0         27.0  13495.0          3  \n",
       "1         27.0  16500.0          3  \n",
       "2         26.0  16500.0          1  \n",
       "3         30.0  13950.0          2  \n",
       "4         22.0  17450.0          2  \n",
       "\n",
       "[5 rows x 26 columns]"
      ]
     },
     "execution_count": 905,
     "metadata": {},
     "output_type": "execute_result"
    }
   ],
   "source": [
    "df=pd.read_csv('autos.csv',index_col='Unnamed: 0')\n",
    "print(df.columns)\n",
    "print('number of unique makes:',df['make'].nunique())\n",
    "df.head()"
   ]
  },
  {
   "cell_type": "markdown",
   "metadata": {},
   "source": [
    "# Autos 2d"
   ]
  },
  {
   "cell_type": "code",
   "execution_count": 906,
   "metadata": {},
   "outputs": [],
   "source": [
    "km=KMeans(k_clusters=3)\n",
    "col1='highway-mpg'\n",
    "col2='price'\n",
    "X=np.vstack([df[col1].fillna(0),df[col2].fillna(0)]).T\n",
    "\n",
    "km.fit(X)\n",
    "clasters=km.predict()\n",
    "\n",
    "#print('centers:\\n',km.C,sep='')"
   ]
  },
  {
   "cell_type": "markdown",
   "metadata": {},
   "source": [
    "# Autos 2d plot"
   ]
  },
  {
   "cell_type": "code",
   "execution_count": 907,
   "metadata": {},
   "outputs": [
    {
     "data": {
      "image/png": "[encoded data removed]",
      "text/plain": [
       "<Figure size 864x576 with 1 Axes>"
      ]
     },
     "metadata": {
      "needs_background": "light"
     },
     "output_type": "display_data"
    }
   ],
   "source": [
    "fig,ax=plt.subplots(1,1,figsize=(12,8))\n",
    "ax.set_xlabel(col1)\n",
    "ax.set_ylabel(col2)\n",
    "\n",
    "fig.suptitle(f'number of iterations: {km.n_iter}')\n",
    "\n",
    "scat=ax.scatter(X[:,0],X[:,1],c=clasters)\n",
    "plt.legend(handles=scat.legend_elements()[0], labels=list(range(km.k_clusters)), title=\"class\")\n",
    "ax.scatter(km.C[:,0],km.C[:,1],c=list(range(km.k_clusters)),marker='x',s=100)\n",
    "\n",
    "plt.show()"
   ]
  },
  {
   "cell_type": "markdown",
   "metadata": {},
   "source": [
    "# Choosing cols, OneHotEncoder"
   ]
  },
  {
   "cell_type": "code",
   "execution_count": 908,
   "metadata": {},
   "outputs": [
    {
     "name": "stdout",
     "output_type": "stream",
     "text": [
      "(205, 55)\n"
     ]
    }
   ],
   "source": [
    "df=df.fillna(0)\n",
    "\n",
    "num_cols=[col for col in df.columns if df[col].dtype!='object']\n",
    "cat_cols=[col for col in df.columns if df[col].dtype=='object']\n",
    "cat_cols.remove('make')\n",
    "\n",
    "enc = OneHotEncoder(handle_unknown='ignore')\n",
    "enc.fit(df[cat_cols])\n",
    "\n",
    "X_cat=enc.transform(df[cat_cols]).toarray()\n",
    "X_num=df[num_cols].to_numpy()\n",
    "\n",
    "X=np.hstack([X_num,X_cat])\n",
    "\n",
    "\n",
    "print(X.shape)"
   ]
  },
  {
   "cell_type": "markdown",
   "metadata": {},
   "source": [
    "# autos ndim"
   ]
  },
  {
   "cell_type": "code",
   "execution_count": 909,
   "metadata": {},
   "outputs": [],
   "source": [
    "km=KMeans(k_clusters=5)\n",
    "km.fit(X)\n",
    "clasters=km.predict()\n",
    "\n",
    "pca=PCA(n_components=2)\n",
    "pca.fit(X)\n",
    "\n",
    "X_r=pca.transform(X)\n",
    "\n",
    "centers=pca.transform(np.nan_to_num(km.C,0))\n"
   ]
  },
  {
   "cell_type": "markdown",
   "metadata": {},
   "source": [
    "# plot ndim autos"
   ]
  },
  {
   "cell_type": "code",
   "execution_count": 910,
   "metadata": {},
   "outputs": [
    {
     "data": {
      "image/png": "[encoded data removed]",
      "text/plain": [
       "<Figure size 864x576 with 1 Axes>"
      ]
     },
     "metadata": {
      "needs_background": "light"
     },
     "output_type": "display_data"
    }
   ],
   "source": [
    "fig,ax=plt.subplots(1,1,figsize=(12,8))\n",
    "ax.set_xlabel('component1')\n",
    "ax.set_ylabel('component2')\n",
    "\n",
    "fig.suptitle(f'number of iterations: {km.n_iter}')\n",
    "\n",
    "scat=ax.scatter(X_r[:,0],X_r[:,1],c=clasters)\n",
    "plt.legend(handles=scat.legend_elements()[0], labels=list(range(km.k_clusters)), title=\"class\")\n",
    "ax.scatter(centers[:,0],centers[:,1],c=list(range(km.k_clusters)),marker='x',s=100)\n",
    "\n",
    "plt.show()"
   ]
  },
  {
   "cell_type": "code",
   "execution_count": 911,
   "metadata": {},
   "outputs": [],
   "source": [
    "df['claster']=clasters"
   ]
  },
  {
   "cell_type": "markdown",
   "metadata": {},
   "source": [
    "# euclidean vs mahalanobis"
   ]
  },
  {
   "cell_type": "code",
   "execution_count": 912,
   "metadata": {},
   "outputs": [],
   "source": [
    "n_points=30\n",
    "\n",
    "mesh=np.meshgrid(np.linspace(0,1,n_points) , np.linspace(0,1,n_points))\n",
    "data = np.vstack([mesh[0].ravel(),mesh[1].ravel()]).T\n",
    "\n",
    "km=KMeans(k_clusters=10)\n",
    "\n",
    "km.fit(data)\n",
    "\n",
    "seed=0\n",
    "np.random.seed(seed)\n",
    "predicted_euclidean=km.predict(km.distp).reshape(n_points,n_points)\n",
    "n_euclidean=km.n_iter\n",
    "C_euclidean=km.C\n",
    "np.random.seed()"
   ]
  },
  {
   "cell_type": "code",
   "execution_count": 913,
   "metadata": {},
   "outputs": [],
   "source": [
    "np.random.seed(seed)\n",
    "predicted_mahalanobis=km.predict(km.distm).reshape(n_points,n_points)\n",
    "n_mahalanobis=km.n_iter\n",
    "C_mahalanobis=km.C\n",
    "np.random.seed()"
   ]
  },
  {
   "cell_type": "code",
   "execution_count": 914,
   "metadata": {},
   "outputs": [
    {
     "data": {
      "image/png": "[encoded data removed]",
      "text/plain": [
       "<Figure size 1080x576 with 2 Axes>"
      ]
     },
     "metadata": {
      "needs_background": "light"
     },
     "output_type": "display_data"
    }
   ],
   "source": [
    "fig,ax=plt.subplots(1,2,figsize=(15,8))\n",
    "\n",
    "ax[0].set_title(f'euclidean, n_iterations: {n_euclidean}')\n",
    "ax[0].contourf(mesh[0],mesh[1],predicted_euclidean)\n",
    "#ax[0].scatter(mesh[0],mesh[1],c=predicted_euclidean)\n",
    "ax[0].scatter(C_euclidean[:,0],C_euclidean[:,1],c='k')\n",
    "\n",
    "ax[1].set_title(f'mahalanobis, n_iterations: {n_mahalanobis}')\n",
    "ax[1].contourf(mesh[0],mesh[1],predicted_mahalanobis)\n",
    "#ax[1].scatter(mesh[0],mesh[1],c=predicted_mahalanobis)\n",
    "ax[1].scatter(C_mahalanobis[:,0],C_mahalanobis[:,1],c='k')\n",
    "\n",
    "plt.show()"
   ]
  }
 ],
 "metadata": {
  "interpreter": {
   "hash": "4fdbb716dac2c9f90d8f05ddbd9682f2e348bcb14d7fe92113f264a11f856e83"
  },
  "kernelspec": {
   "display_name": "Python 3.9.9 64-bit",
   "language": "python",
   "name": "python3"
  },
  "language_info": {
   "codemirror_mode": {
    "name": "ipython",
    "version": 3
   },
   "file_extension": ".py",
   "mimetype": "text/x-python",
   "name": "python",
   "nbconvert_exporter": "python",
   "pygments_lexer": "ipython3",
   "version": "3.9.9"
  },
  "orig_nbformat": 4
 },
 "nbformat": 4,
 "nbformat_minor": 2
}
